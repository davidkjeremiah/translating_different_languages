{
 "cells": [
  {
   "cell_type": "markdown",
   "metadata": {},
   "source": [
    "# **Automatic Translation Using Python**"
   ]
  },
  {
   "cell_type": "markdown",
   "metadata": {},
   "source": [
    "### Import library"
   ]
  },
  {
   "cell_type": "code",
   "execution_count": 8,
   "metadata": {},
   "outputs": [],
   "source": [
    "# import translator package\n",
    "from deep_translator import GoogleTranslator\n",
    "import pandas as pd\n",
    "pd.set_option('display.max_rows', None)"
   ]
  },
  {
   "cell_type": "markdown",
   "metadata": {},
   "source": [
    "### App style 1"
   ]
  },
  {
   "cell_type": "code",
   "execution_count": 9,
   "metadata": {},
   "outputs": [],
   "source": [
    "# app style 1\n",
    "def mimic_google_translator():\n",
    "    # General questions to ask users\n",
    "    # name\n",
    "    name = input(\"Hi there! What's your name?\")\n",
    "    \n",
    "    # response and text to translate\n",
    "    answer = input(\"Nice to meet you {}. What word or sentence would you like to translate?\".format(name))\n",
    "    \n",
    "    # languages to translate to\n",
    "    langs_list = GoogleTranslator().get_supported_languages()\n",
    "    # store languages in a dataframe\n",
    "    langs_list_df = pd.DataFrame({'Languages':langs_list})\n",
    "    print(\"Please, select from the list of languages you want to translate to\", end=\"\\n\")\n",
    "    print(langs_list_df)\n",
    "    \n",
    "    # get translation index\n",
    "    translation_lang_index = input('Please type in only the number associated with the language you desire to translate to: ')\n",
    "    \n",
    "    # translate user's text\n",
    "    for index, lang in enumerate(langs_list):\n",
    "        if index == int(translation_lang_index):\n",
    "            language = langs_list_df.iloc[index].Languages\n",
    "            print(\"Alrightie! Let's translate your text to {}, {}\".format(language,name))\n",
    "            # translation\n",
    "            translation = GoogleTranslator(source='auto', target=language).translate(answer)\n",
    "\n",
    "    return translation"
   ]
  },
  {
   "cell_type": "markdown",
   "metadata": {},
   "source": [
    "### Run App style 1"
   ]
  },
  {
   "cell_type": "code",
   "execution_count": null,
   "metadata": {},
   "outputs": [],
   "source": [
    "mimic_google_translator() # for App style 1"
   ]
  },
  {
   "cell_type": "markdown",
   "metadata": {},
   "source": [
    "### App style 2"
   ]
  },
  {
   "cell_type": "code",
   "execution_count": 18,
   "metadata": {},
   "outputs": [],
   "source": [
    "# app style 2\n",
    "def mimic_google_translator_2():\n",
    "    # General questions to ask users\n",
    "    # name\n",
    "    name = input(\"Hi there! What's your name?\")\n",
    "    \n",
    "    # response and text to translate\n",
    "    answer = input(\"Nice to meet you {}. What word or sentence would you like to translate?\".format(name))\n",
    "    \n",
    "    # get translation index\n",
    "    translation_lang = input('Please, what language do you want to translate to: ')\n",
    "    \n",
    "    # very language is exists\n",
    "    langs_list = GoogleTranslator().get_supported_languages()\n",
    "    while translation_lang.lower() not in langs_list:\n",
    "        print('Wrong input or incorrect spelling!', end='\\n')\n",
    "        print('Please select from the list of supported languages shown below...', end='\\n')\n",
    "        print(langs_list, end='\\n')\n",
    "        translation_lang = input('Please, what language do you want to translate to: ')\n",
    "    else:\n",
    "        language=translation_lang.lower()\n",
    "        print(\"Alrightie! Let's translate your text to {}, {}\".format(language,name))\n",
    "        # translation\n",
    "        translation = GoogleTranslator(source='auto', target=language).translate(answer)\n",
    "            \n",
    "    return translation"
   ]
  },
  {
   "cell_type": "markdown",
   "metadata": {},
   "source": [
    "### Run App style 2"
   ]
  },
  {
   "cell_type": "code",
   "execution_count": 20,
   "metadata": {},
   "outputs": [
    {
     "name": "stdout",
     "output_type": "stream",
     "text": [
      "Wrong input or incorrect spelling!\n",
      "Please select from the list of supported languages shown below...\n",
      "['afrikaans', 'albanian', 'amharic', 'arabic', 'armenian', 'assamese', 'aymara', 'azerbaijani', 'bambara', 'basque', 'belarusian', 'bengali', 'bhojpuri', 'bosnian', 'bulgarian', 'catalan', 'cebuano', 'chichewa', 'chinese (simplified)', 'chinese (traditional)', 'corsican', 'croatian', 'czech', 'danish', 'dhivehi', 'dogri', 'dutch', 'english', 'esperanto', 'estonian', 'ewe', 'filipino', 'finnish', 'french', 'frisian', 'galician', 'georgian', 'german', 'greek', 'guarani', 'gujarati', 'haitian creole', 'hausa', 'hawaiian', 'hebrew', 'hindi', 'hmong', 'hungarian', 'icelandic', 'igbo', 'ilocano', 'indonesian', 'irish', 'italian', 'japanese', 'javanese', 'kannada', 'kazakh', 'khmer', 'kinyarwanda', 'konkani', 'korean', 'krio', 'kurdish (kurmanji)', 'kurdish (sorani)', 'kyrgyz', 'lao', 'latin', 'latvian', 'lingala', 'lithuanian', 'luganda', 'luxembourgish', 'macedonian', 'maithili', 'malagasy', 'malay', 'malayalam', 'maltese', 'maori', 'marathi', 'meiteilon (manipuri)', 'mizo', 'mongolian', 'myanmar', 'nepali', 'norwegian', 'odia (oriya)', 'oromo', 'pashto', 'persian', 'polish', 'portuguese', 'punjabi', 'quechua', 'romanian', 'russian', 'samoan', 'sanskrit', 'scots gaelic', 'sepedi', 'serbian', 'sesotho', 'shona', 'sindhi', 'sinhala', 'slovak', 'slovenian', 'somali', 'spanish', 'sundanese', 'swahili', 'swedish', 'tajik', 'tamil', 'tatar', 'telugu', 'thai', 'tigrinya', 'tsonga', 'turkish', 'turkmen', 'twi', 'ukrainian', 'urdu', 'uyghur', 'uzbek', 'vietnamese', 'welsh', 'xhosa', 'yiddish', 'yoruba', 'zulu']\n",
      "Alrightie! Let's translate your text to zulu, David\n"
     ]
    },
    {
     "data": {
      "text/plain": [
       "'Ngiyamthanda uJesu'"
      ]
     },
     "execution_count": 20,
     "metadata": {},
     "output_type": "execute_result"
    }
   ],
   "source": [
    "mimic_google_translator_2() # for app style 2"
   ]
  },
  {
   "cell_type": "code",
   "execution_count": null,
   "metadata": {},
   "outputs": [],
   "source": []
  }
 ],
 "metadata": {
  "kernelspec": {
   "display_name": "Python 3.10.6 64-bit",
   "language": "python",
   "name": "python3"
  },
  "language_info": {
   "codemirror_mode": {
    "name": "ipython",
    "version": 3
   },
   "file_extension": ".py",
   "mimetype": "text/x-python",
   "name": "python",
   "nbconvert_exporter": "python",
   "pygments_lexer": "ipython3",
   "version": "3.10.6"
  },
  "orig_nbformat": 4,
  "vscode": {
   "interpreter": {
    "hash": "63963b3f4c440940f0b94a3100916033a226cb4f45979123153792d60aa56d6a"
   }
  }
 },
 "nbformat": 4,
 "nbformat_minor": 2
}
